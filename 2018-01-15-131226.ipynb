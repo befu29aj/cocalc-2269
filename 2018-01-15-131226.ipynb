{
 "cells": [
  {
   "cell_type": "markdown",
   "metadata": {
    "collapsed": false
   },
   "source": [
    "$$\\left( x, y, z \\right) \\ {\\mapsto} \\ \\frac{x {\\left(\\frac{2 \\, x}{x^{2} + y^{2} + z^{2}} - \\frac{x^{2}}{{\\left(x^{2} + y^{2} + z^{2}\\right)}^{2}} - \\frac{y^{\n",
    "2}}{{\\left(x^{2} + y^{2} + z^{2}\\right)}^{2}} - \\frac{z^{2}}{{\\left(x^{2} + y^{2} + z^{2}\\right)}^{2}} - 1\\right)}}{x^{2} + y^{2} + z^{2}} - \\frac{y {\\left(\\\n",
    "frac{x^{2}}{{\\left(x^{2} + y^{2} + z^{2}\\right)}^{2}} - \\frac{2 \\, y}{x^{2} + y^{2} + z^{2}} + \\frac{y^{2}}{{\\left(x^{2} + y^{2} + z^{2}\\right)}^{2}} + \\frac\n",
    "{z^{2}}{{\\left(x^{2} + y^{2} + z^{2}\\right)}^{2}} + 1\\right)}}{x^{2} + y^{2} + z^{2}} - \\frac{z {\\left(\\frac{x^{2}}{{\\left(x^{2} + y^{2} + z^{2}\\right)}^{2}}\n",
    " + \\frac{y^{2}}{{\\left(x^{2} + y^{2} + z^{2}\\right)}^{2}} - \\frac{2 \\, z}{x^{2} + y^{2} + z^{2}} + \\frac{z^{2}}{{\\left(x^{2} + y^{2} + z^{2}\\right)}^{2}} + 1\n",
    "\\right)}}{x^{2} + y^{2} + z^{2}}$$"
   ]
  },
  {
   "cell_type": "markdown",
   "metadata": {
    "collapsed": false
   },
   "source": [
    "$$\\frac{x^{4} + 2 x^{3} y + 2 x y^{3} -  y^{4} + 2 x^{3} z + 2 x y^{2} z + 2 x y z^{2} - 2 y^{2} z^{2} + 2 x z^{3} -  z^{4} - 4 x^{3} - 4 x y^{2} - 4 x z^{2} +\n",
    " 3 x^{2} + 4 x y -  y^{2} + 4 x z -  z^{2}}{x^{6} + 3 x^{4} y^{2} + 3 x^{2} y^{4} + y^{6} + 3 x^{4} z^{2} + 6 x^{2} y^{2} z^{2} + 3 y^{4} z^{2} + 3 x^{2} z^{\n",
    "4} + 3 y^{2} z^{4} + z^{6}}$$"
   ]
  }
 ],
 "metadata": {
  "kernelspec": {
   "display_name": "Julia",
   "language": "julia",
   "name": "julia"
  },
  "language_info": {
   "file_extension": ".jl",
   "mimetype": "application/julia",
   "name": "julia",
   "version": "0.6.2"
  }
 },
 "nbformat": 4,
 "nbformat_minor": 0
}